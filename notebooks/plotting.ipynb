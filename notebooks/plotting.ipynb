{
 "cells": [
  {
   "cell_type": "code",
   "execution_count": 1,
   "metadata": {},
   "outputs": [],
   "source": [
    "from models.preferences.preference_utils import (\n",
    "    get_child_data,\n",
    "    initialize_child_preference_data,\n",
    "    print_preference_difference_and_accuracy,\n",
    "    calculate_percent_of_known_ingredients_to_unknown,\n",
    "    plot_individual_child_known_percent,\n",
    "    plot_preference_and_sentiment_accuracies,\n",
    "    plot_utilities_and_mape,\n",
    "    plot_utilities_from_json,\n",
    ")"
   ]
  }
 ],
 "metadata": {
  "kernelspec": {
   "display_name": "masterEnv",
   "language": "python",
   "name": "python3"
  },
  "language_info": {
   "codemirror_mode": {
    "name": "ipython",
    "version": 3
   },
   "file_extension": ".py",
   "mimetype": "text/x-python",
   "name": "python",
   "nbconvert_exporter": "python",
   "pygments_lexer": "ipython3",
   "version": "3.10.14"
  }
 },
 "nbformat": 4,
 "nbformat_minor": 2
}
